{
 "cells": [
  {
   "cell_type": "markdown",
   "metadata": {},
   "source": [
    "# How the sausage is made"
   ]
  },
  {
   "cell_type": "code",
   "execution_count": 889,
   "metadata": {},
   "outputs": [],
   "source": [
    "import numpy as np\n",
    "import matplotlib.pyplot as plt\n",
    "import pandas as pd\n",
    "import welly\n",
    "import scipy\n",
    "import striplog"
   ]
  },
  {
   "cell_type": "code",
   "execution_count": null,
   "metadata": {},
   "outputs": [],
   "source": [
    "# Generate random numbers as an example\n",
    "rn = np.random.uniform(low=0, high=1, size=(20,))\n",
    "\n",
    "# Make a random plot...\n",
    "fig = plt.figure()\n",
    "ax = fig.add_subplot(111)\n",
    "ax.plot(rn,\"r\")\n",
    "ax.grid()\n",
    "#######################\n",
    "\n",
    "\n",
    "# Setup the canvas object to extract images INCLUDING axes elements\n",
    "width = 900 #pixels\n",
    "height = 150 #pixels\n",
    "# matplotlib likes image sizes in inches (thanks America)\n",
    "# so we need to now how many pixels fit on an inch on your screen (DotsPerInch)\n",
    "DPI = fig.get_dpi()\n",
    "fig.set_size_inches(width/float(DPI),height/float(DPI))\n",
    "fig.canvas.draw()\n",
    "#######################\n",
    "\n",
    "# Now we can save it to a numpy array. These are faily obscure functions...\n",
    "# the .tostring_rgb() generates a binary representation of the WHOLE plot\n",
    "# np.frombuffer reads the binary and interprets it as a collection of integers\n",
    "# At the end they're just a long list of RGB colors in 1 dimension\n",
    "data = np.frombuffer(fig.canvas.tostring_rgb(), dtype=np.uint8)\n",
    "\n",
    "# Retrieve the original shape of the plot inverted (height, width)\n",
    "im_shape = fig.canvas.get_width_height()[::-1]\n",
    "\n",
    "# We can now make a 3-D array (height, width, 3) \"one 2D image per color channel\"\n",
    "data = data.reshape(*im_shape, 3)"
   ]
  },
  {
   "cell_type": "code",
   "execution_count": null,
   "metadata": {},
   "outputs": [],
   "source": [
    "plt.imshow(data[:,0:150,2], cmap=\"Greys_r\")"
   ]
  },
  {
   "cell_type": "code",
   "execution_count": null,
   "metadata": {},
   "outputs": [],
   "source": [
    "plt.imshow(data[:,150:300,2], cmap=\"Greys_r\")"
   ]
  },
  {
   "cell_type": "code",
   "execution_count": 6,
   "metadata": {},
   "outputs": [],
   "source": [
    "shrimplin = pd.read_csv('shrimplin.csv')\n"
   ]
  },
  {
   "cell_type": "code",
   "execution_count": 932,
   "metadata": {},
   "outputs": [
    {
     "data": {
      "text/html": [
       "<div>\n",
       "<style scoped>\n",
       "    .dataframe tbody tr th:only-of-type {\n",
       "        vertical-align: middle;\n",
       "    }\n",
       "\n",
       "    .dataframe tbody tr th {\n",
       "        vertical-align: top;\n",
       "    }\n",
       "\n",
       "    .dataframe thead th {\n",
       "        text-align: right;\n",
       "    }\n",
       "</style>\n",
       "<table border=\"1\" class=\"dataframe\">\n",
       "  <thead>\n",
       "    <tr style=\"text-align: right;\">\n",
       "      <th></th>\n",
       "      <th>Facies</th>\n",
       "      <th>Depth</th>\n",
       "      <th>GR</th>\n",
       "      <th>ILD_log10</th>\n",
       "      <th>DeltaPHI</th>\n",
       "      <th>PHIND</th>\n",
       "      <th>PE</th>\n",
       "      <th>NM_M</th>\n",
       "      <th>RELPOS</th>\n",
       "    </tr>\n",
       "  </thead>\n",
       "  <tbody>\n",
       "    <tr>\n",
       "      <th>count</th>\n",
       "      <td>471.000000</td>\n",
       "      <td>471.000000</td>\n",
       "      <td>471.000000</td>\n",
       "      <td>471.000000</td>\n",
       "      <td>471.000000</td>\n",
       "      <td>471.000000</td>\n",
       "      <td>471.000000</td>\n",
       "      <td>471.000000</td>\n",
       "      <td>471.000000</td>\n",
       "    </tr>\n",
       "    <tr>\n",
       "      <th>mean</th>\n",
       "      <td>4.384289</td>\n",
       "      <td>2910.501062</td>\n",
       "      <td>69.408896</td>\n",
       "      <td>0.659679</td>\n",
       "      <td>7.708493</td>\n",
       "      <td>12.173705</td>\n",
       "      <td>4.219958</td>\n",
       "      <td>1.488323</td>\n",
       "      <td>0.514482</td>\n",
       "    </tr>\n",
       "    <tr>\n",
       "      <th>std</th>\n",
       "      <td>2.207070</td>\n",
       "      <td>68.055644</td>\n",
       "      <td>37.299536</td>\n",
       "      <td>0.232894</td>\n",
       "      <td>4.279453</td>\n",
       "      <td>5.317152</td>\n",
       "      <td>0.902823</td>\n",
       "      <td>0.500395</td>\n",
       "      <td>0.289757</td>\n",
       "    </tr>\n",
       "    <tr>\n",
       "      <th>min</th>\n",
       "      <td>2.000000</td>\n",
       "      <td>2793.000000</td>\n",
       "      <td>13.280000</td>\n",
       "      <td>0.297000</td>\n",
       "      <td>-4.300000</td>\n",
       "      <td>1.590000</td>\n",
       "      <td>2.700000</td>\n",
       "      <td>1.000000</td>\n",
       "      <td>0.010000</td>\n",
       "    </tr>\n",
       "    <tr>\n",
       "      <th>25%</th>\n",
       "      <td>2.500000</td>\n",
       "      <td>2851.750000</td>\n",
       "      <td>46.895000</td>\n",
       "      <td>0.486000</td>\n",
       "      <td>4.300000</td>\n",
       "      <td>8.065000</td>\n",
       "      <td>3.400000</td>\n",
       "      <td>1.000000</td>\n",
       "      <td>0.261000</td>\n",
       "    </tr>\n",
       "    <tr>\n",
       "      <th>50%</th>\n",
       "      <td>3.000000</td>\n",
       "      <td>2910.500000</td>\n",
       "      <td>69.480000</td>\n",
       "      <td>0.580000</td>\n",
       "      <td>7.300000</td>\n",
       "      <td>12.170000</td>\n",
       "      <td>4.000000</td>\n",
       "      <td>1.000000</td>\n",
       "      <td>0.513000</td>\n",
       "    </tr>\n",
       "    <tr>\n",
       "      <th>75%</th>\n",
       "      <td>6.000000</td>\n",
       "      <td>2969.250000</td>\n",
       "      <td>85.995000</td>\n",
       "      <td>0.827500</td>\n",
       "      <td>11.150000</td>\n",
       "      <td>15.127500</td>\n",
       "      <td>5.000000</td>\n",
       "      <td>2.000000</td>\n",
       "      <td>0.765000</td>\n",
       "    </tr>\n",
       "    <tr>\n",
       "      <th>max</th>\n",
       "      <td>9.000000</td>\n",
       "      <td>3028.000000</td>\n",
       "      <td>361.150000</td>\n",
       "      <td>1.480000</td>\n",
       "      <td>18.500000</td>\n",
       "      <td>37.470000</td>\n",
       "      <td>6.300000</td>\n",
       "      <td>2.000000</td>\n",
       "      <td>1.000000</td>\n",
       "    </tr>\n",
       "  </tbody>\n",
       "</table>\n",
       "</div>"
      ],
      "text/plain": [
       "           Facies        Depth          GR   ILD_log10    DeltaPHI  \\\n",
       "count  471.000000   471.000000  471.000000  471.000000  471.000000   \n",
       "mean     4.384289  2910.501062   69.408896    0.659679    7.708493   \n",
       "std      2.207070    68.055644   37.299536    0.232894    4.279453   \n",
       "min      2.000000  2793.000000   13.280000    0.297000   -4.300000   \n",
       "25%      2.500000  2851.750000   46.895000    0.486000    4.300000   \n",
       "50%      3.000000  2910.500000   69.480000    0.580000    7.300000   \n",
       "75%      6.000000  2969.250000   85.995000    0.827500   11.150000   \n",
       "max      9.000000  3028.000000  361.150000    1.480000   18.500000   \n",
       "\n",
       "            PHIND          PE        NM_M      RELPOS  \n",
       "count  471.000000  471.000000  471.000000  471.000000  \n",
       "mean    12.173705    4.219958    1.488323    0.514482  \n",
       "std      5.317152    0.902823    0.500395    0.289757  \n",
       "min      1.590000    2.700000    1.000000    0.010000  \n",
       "25%      8.065000    3.400000    1.000000    0.261000  \n",
       "50%     12.170000    4.000000    1.000000    0.513000  \n",
       "75%     15.127500    5.000000    2.000000    0.765000  \n",
       "max     37.470000    6.300000    2.000000    1.000000  "
      ]
     },
     "execution_count": 932,
     "metadata": {},
     "output_type": "execute_result"
    }
   ],
   "source": [
    "shrimplin.describe()"
   ]
  },
  {
   "cell_type": "code",
   "execution_count": 858,
   "metadata": {},
   "outputs": [],
   "source": [
    "def logchunks(wellname, GR):\n",
    "    \n",
    "    width = 150\n",
    "    height = 900\n",
    "   \n",
    "    ########## mask chunks whose value is the same everywhere (blank chunks),\n",
    "    ########## stop feeling like a potato\n",
    "    \n",
    "    fig = plt.figure()\n",
    "    ax1 = fig.add_subplot(232)\n",
    "    ax1.plot(GR, 'Depth', \"r\", data = wellname)\n",
    "    ax1.set(xlabel = GR)\n",
    "    ax1.grid()\n",
    "    plt.gca().invert_yaxis()\n",
    "    DPI = fig.get_dpi()\n",
    "    fig.set_size_inches(width/float(DPI),height/float(DPI))\n",
    "    fig.canvas.draw()\n",
    "    plt.close('all')\n",
    "\n",
    "    bawps_new = np.frombuffer(fig.canvas.tostring_rgb(), dtype=np.uint8)\n",
    "    im_shape = fig.canvas.get_width_height()[::-1]\n",
    "    bawps_new = bawps_new.reshape(*im_shape, 3)\n",
    "    \n",
    "    numchunk = 10\n",
    "    chunks2 = []\n",
    "    for i in range(numchunk):\n",
    "        #plt.subplots()\n",
    "        Depth_array = np.array(wellname['Depth']).size\n",
    "        chunklen = int(Depth_array/numchunk)\n",
    "        chunks1 = ((bawps_new[(i*chunklen):((i+1)*chunklen), : ,2]))\n",
    "        chunks2.append(chunks1)\n",
    "    sum_if_blank = 255*chunklen*int(chunks2[0].shape[1])\n",
    "    chunks = [x for x in chunks2 if np.sum(x) != sum_if_blank]\n",
    "    \n",
    "    for i in range(len(chunks)):\n",
    "        plt.subplots()\n",
    "        plt.imshow(chunks[i], cmap = \"Greys_r\")\n",
    "        \n",
    "#return list of chunks here, do they need to be saved as a file?\n",
    "    return chunks\n",
    "\n",
    "#relate cutting depths of each chunk (what is the range\n",
    "#of the actual depth that each chunk is ie chunk 3 depth is \n",
    "#a little less than 2850 to 2875 maybe??)\n",
    "\n",
    "#maybe save the depth of each well log as a list and reference specific range of depth?\n",
    "#play with padding or margins to make well log same size as chunks"
   ]
  },
  {
   "cell_type": "code",
   "execution_count": 859,
   "metadata": {
    "scrolled": false
   },
   "outputs": [
    {
     "data": {
      "text/plain": [
       "[array([[255, 255, 255, ..., 255, 255, 255],\n",
       "        [255, 255, 255, ..., 255, 255, 255],\n",
       "        [255, 255, 255, ..., 255, 255, 255],\n",
       "        ...,\n",
       "        [255, 255, 255, ..., 255, 255, 255],\n",
       "        [255, 255, 255, ..., 255, 255, 255],\n",
       "        [255, 255, 255, ..., 255, 255, 255]], dtype=uint8),\n",
       " array([[255, 255, 255, ..., 255, 255, 255],\n",
       "        [255, 255, 255, ..., 255, 255, 255],\n",
       "        [255, 255, 255, ..., 255, 255, 255],\n",
       "        ...,\n",
       "        [255, 255, 255, ..., 255, 255, 255],\n",
       "        [255, 255, 255, ..., 255, 255, 255],\n",
       "        [255, 255, 255, ..., 255, 255, 255]], dtype=uint8),\n",
       " array([[255, 255, 255, ..., 255, 255, 255],\n",
       "        [255, 255, 255, ..., 255, 255, 255],\n",
       "        [255, 255, 255, ..., 255, 255, 255],\n",
       "        ...,\n",
       "        [255, 255, 255, ..., 255, 255, 255],\n",
       "        [255, 255, 255, ..., 255, 255, 255],\n",
       "        [255, 255, 255, ..., 255, 255, 255]], dtype=uint8),\n",
       " array([[255, 255, 255, ..., 255, 255, 255],\n",
       "        [255, 255, 255, ..., 255, 255, 255],\n",
       "        [255, 255, 255, ..., 255, 255, 255],\n",
       "        ...,\n",
       "        [255, 255, 255, ..., 255, 255, 255],\n",
       "        [255, 255, 255, ..., 255, 255, 255],\n",
       "        [255, 255, 255, ..., 255, 255, 255]], dtype=uint8),\n",
       " array([[255, 255, 255, ..., 255, 255, 255],\n",
       "        [255, 255, 255, ..., 255, 255, 255],\n",
       "        [255, 255, 255, ..., 255, 255, 255],\n",
       "        ...,\n",
       "        [255, 255, 255, ..., 255, 255, 255],\n",
       "        [255, 255, 255, ..., 255, 255, 255],\n",
       "        [255, 255, 255, ..., 255, 255, 255]], dtype=uint8),\n",
       " array([[255, 255, 255, ..., 255, 255, 255],\n",
       "        [255, 255, 255, ..., 255, 255, 255],\n",
       "        [255, 255, 255, ..., 255, 255, 255],\n",
       "        ...,\n",
       "        [255, 255, 255, ..., 255, 255, 255],\n",
       "        [255, 255, 255, ..., 255, 255, 255],\n",
       "        [255, 255, 255, ..., 255, 255, 255]], dtype=uint8),\n",
       " array([[255, 255, 255, ..., 255, 255, 255],\n",
       "        [255, 255, 255, ..., 255, 255, 255],\n",
       "        [255, 255, 255, ..., 255, 255, 255],\n",
       "        ...,\n",
       "        [255, 255, 255, ..., 255, 255, 255],\n",
       "        [255, 255, 255, ..., 255, 255, 255],\n",
       "        [255, 255, 255, ..., 255, 255, 255]], dtype=uint8),\n",
       " array([[255, 255, 255, ..., 255, 255, 255],\n",
       "        [255, 255, 255, ..., 255, 255, 255],\n",
       "        [255, 255, 255, ..., 255, 255, 255],\n",
       "        ...,\n",
       "        [255, 255, 255, ..., 255, 255, 255],\n",
       "        [255, 255, 255, ..., 255, 255, 255],\n",
       "        [255, 255, 255, ..., 255, 255, 255]], dtype=uint8)]"
      ]
     },
     "execution_count": 859,
     "metadata": {},
     "output_type": "execute_result"
    },
    {
     "data": {
      "image/png": "[encoded data removed]",
      "text/plain": [
       "<Figure size 432x288 with 1 Axes>"
      ]
     },
     "metadata": {},
     "output_type": "display_data"
    },
    {
     "data": {
      "image/png": "[encoded data removed]",
      "text/plain": [
       "<Figure size 432x288 with 1 Axes>"
      ]
     },
     "metadata": {},
     "output_type": "display_data"
    },
    {
     "data": {
      "image/png": "[encoded data removed]",
      "text/plain": [
       "<Figure size 432x288 with 1 Axes>"
      ]
     },
     "metadata": {},
     "output_type": "display_data"
    },
    {
     "data": {
      "image/png": "[encoded data removed]",
      "text/plain": [
       "<Figure size 432x288 with 1 Axes>"
      ]
     },
     "metadata": {},
     "output_type": "display_data"
    },
    {
     "data": {
      "image/png": "[encoded data removed]",
      "text/plain": [
       "<Figure size 432x288 with 1 Axes>"
      ]
     },
     "metadata": {},
     "output_type": "display_data"
    },
    {
     "data": {
      "image/png": "[encoded data removed]",
      "text/plain": [
       "<Figure size 432x288 with 1 Axes>"
      ]
     },
     "metadata": {},
     "output_type": "display_data"
    },
    {
     "data": {
      "image/png": "[encoded data removed]",
      "text/plain": [
       "<Figure size 432x288 with 1 Axes>"
      ]
     },
     "metadata": {},
     "output_type": "display_data"
    },
    {
     "data": {
      "image/png": "[encoded data removed]",
      "text/plain": [
       "<Figure size 432x288 with 1 Axes>"
      ]
     },
     "metadata": {},
     "output_type": "display_data"
    }
   ],
   "source": [
    "logchunks(shrimplin,'GR')"
   ]
  },
  {
   "cell_type": "markdown",
   "metadata": {},
   "source": [
    "# Sausaging LAS files "
   ]
  },
  {
   "cell_type": "code",
   "execution_count": 866,
   "metadata": {},
   "outputs": [],
   "source": [
    "import zipfile; import os; import urllib\n",
    "\n",
    "os.makedirs('./temp', exist_ok=True)\n",
    "raspath = 'http://www.kgs.ku.edu/PRS/Ora_Archive/ks_elog_scans.zip'\n",
    "laspath = 'http://www.kgs.ku.edu/PRS/Ora_Archive/ks_las_files.zip'\n",
    "\n",
    "ras_handle, _ = urllib.request.urlretrieve(raspath)\n",
    "las_handle, _ = urllib.request.urlretrieve(laspath)\n",
    "\n",
    "with zipfile.ZipFile(ras_handle,'r') as zip_ras:\n",
    "    zip_ras.extractall('temp')\n",
    "with zipfile.ZipFile(las_handle,'r') as zip_las:\n",
    "    zip_las.extractall('temp')"
   ]
  },
  {
   "cell_type": "code",
   "execution_count": 867,
   "metadata": {},
   "outputs": [],
   "source": [
    "elogs = pd.read_csv('temp/ks_elog_scans.txt', parse_dates=True)\n",
    "lases = pd.read_csv('temp/ks_las_files.txt', parse_dates=True)"
   ]
  },
  {
   "cell_type": "code",
   "execution_count": 863,
   "metadata": {
    "scrolled": true
   },
   "outputs": [
    {
     "data": {
      "text/html": [
       "<div>\n",
       "<style scoped>\n",
       "    .dataframe tbody tr th:only-of-type {\n",
       "        vertical-align: middle;\n",
       "    }\n",
       "\n",
       "    .dataframe tbody tr th {\n",
       "        vertical-align: top;\n",
       "    }\n",
       "\n",
       "    .dataframe thead th {\n",
       "        text-align: right;\n",
       "    }\n",
       "</style>\n",
       "<table border=\"1\" class=\"dataframe\">\n",
       "  <thead>\n",
       "    <tr style=\"text-align: right;\">\n",
       "      <th></th>\n",
       "      <th>KGS_ID</th>\n",
       "      <th>Latitude</th>\n",
       "      <th>Longitude</th>\n",
       "      <th>Elevation</th>\n",
       "      <th>Depth_start</th>\n",
       "      <th>Depth_stop</th>\n",
       "    </tr>\n",
       "  </thead>\n",
       "  <tbody>\n",
       "    <tr>\n",
       "      <th>count</th>\n",
       "      <td>1.935500e+04</td>\n",
       "      <td>19355.000000</td>\n",
       "      <td>19355.000000</td>\n",
       "      <td>19349.000000</td>\n",
       "      <td>19355.000000</td>\n",
       "      <td>19355.000000</td>\n",
       "    </tr>\n",
       "    <tr>\n",
       "      <th>mean</th>\n",
       "      <td>1.031636e+09</td>\n",
       "      <td>38.279273</td>\n",
       "      <td>-99.253280</td>\n",
       "      <td>2175.699838</td>\n",
       "      <td>798.730061</td>\n",
       "      <td>3841.977470</td>\n",
       "    </tr>\n",
       "    <tr>\n",
       "      <th>std</th>\n",
       "      <td>1.761870e+07</td>\n",
       "      <td>0.765678</td>\n",
       "      <td>1.696698</td>\n",
       "      <td>706.369338</td>\n",
       "      <td>1294.776780</td>\n",
       "      <td>1742.409777</td>\n",
       "    </tr>\n",
       "    <tr>\n",
       "      <th>min</th>\n",
       "      <td>1.001184e+09</td>\n",
       "      <td>36.994026</td>\n",
       "      <td>-102.043705</td>\n",
       "      <td>5.000000</td>\n",
       "      <td>-46.000000</td>\n",
       "      <td>-18.700000</td>\n",
       "    </tr>\n",
       "    <tr>\n",
       "      <th>25%</th>\n",
       "      <td>1.006144e+09</td>\n",
       "      <td>37.605713</td>\n",
       "      <td>-100.605021</td>\n",
       "      <td>1718.000000</td>\n",
       "      <td>1.000000</td>\n",
       "      <td>3283.500000</td>\n",
       "    </tr>\n",
       "    <tr>\n",
       "      <th>50%</th>\n",
       "      <td>1.043341e+09</td>\n",
       "      <td>38.297115</td>\n",
       "      <td>-99.469217</td>\n",
       "      <td>2147.000000</td>\n",
       "      <td>200.000000</td>\n",
       "      <td>3965.500000</td>\n",
       "    </tr>\n",
       "    <tr>\n",
       "      <th>75%</th>\n",
       "      <td>1.044247e+09</td>\n",
       "      <td>38.820400</td>\n",
       "      <td>-98.533249</td>\n",
       "      <td>2791.000000</td>\n",
       "      <td>994.000000</td>\n",
       "      <td>4760.500000</td>\n",
       "    </tr>\n",
       "    <tr>\n",
       "      <th>max</th>\n",
       "      <td>1.046839e+09</td>\n",
       "      <td>40.001832</td>\n",
       "      <td>-94.629981</td>\n",
       "      <td>3955.000000</td>\n",
       "      <td>38550.000000</td>\n",
       "      <td>63841.000000</td>\n",
       "    </tr>\n",
       "  </tbody>\n",
       "</table>\n",
       "</div>"
      ],
      "text/plain": [
       "             KGS_ID      Latitude     Longitude     Elevation   Depth_start  \\\n",
       "count  1.935500e+04  19355.000000  19355.000000  19349.000000  19355.000000   \n",
       "mean   1.031636e+09     38.279273    -99.253280   2175.699838    798.730061   \n",
       "std    1.761870e+07      0.765678      1.696698    706.369338   1294.776780   \n",
       "min    1.001184e+09     36.994026   -102.043705      5.000000    -46.000000   \n",
       "25%    1.006144e+09     37.605713   -100.605021   1718.000000      1.000000   \n",
       "50%    1.043341e+09     38.297115    -99.469217   2147.000000    200.000000   \n",
       "75%    1.044247e+09     38.820400    -98.533249   2791.000000    994.000000   \n",
       "max    1.046839e+09     40.001832    -94.629981   3955.000000  38550.000000   \n",
       "\n",
       "         Depth_stop  \n",
       "count  19355.000000  \n",
       "mean    3841.977470  \n",
       "std     1742.409777  \n",
       "min      -18.700000  \n",
       "25%     3283.500000  \n",
       "50%     3965.500000  \n",
       "75%     4760.500000  \n",
       "max    63841.000000  "
      ]
     },
     "execution_count": 863,
     "metadata": {},
     "output_type": "execute_result"
    }
   ],
   "source": [
    "lases.describe()"
   ]
  },
  {
   "cell_type": "code",
   "execution_count": 875,
   "metadata": {},
   "outputs": [
    {
     "name": "stdout",
     "output_type": "stream",
     "text": [
      "How many logs fall in both and have unique KGS_ID? 62941\n"
     ]
    }
   ],
   "source": [
    "elogs_mask = elogs['KID'].isin(lases['KGS_ID'])  # Create mask for elogs\n",
    "both_elog_unique = elogs[elogs_mask] # select items elog that fall in both\n",
    "both_elog_unique.drop_duplicates('KID') # remove duplicates\n",
    "print('How many logs fall in both and have unique KGS_ID? '+str(both_elog_unique.shape[0]))\n",
    "both_elog_unique_new = both_elog_unique.loc['2000-1-1' : '2017-1-1']\n",
    "both_elog_unique_new;"
   ]
  },
  {
   "cell_type": "code",
   "execution_count": 876,
   "metadata": {
    "scrolled": true
   },
   "outputs": [
    {
     "name": "stdout",
     "output_type": "stream",
     "text": [
      "Other direction -- how many logs fall in both and have unique KGS_ID? 14699\n"
     ]
    }
   ],
   "source": [
    "lases_mask = lases['KGS_ID'].isin(elogs['KID'])  # Create mask for elogs\n",
    "both_lases = lases[lases_mask] # select items elog that fall in both\n",
    "both_lases_unique = both_lases.drop_duplicates('KGS_ID') # remove duplicates\n",
    "print('Other direction -- how many logs fall in both and have unique KGS_ID? '+str(both_lases_unique.shape[0]))\n",
    "if both_elog_unique.shape[0] == both_lases_unique.shape[0]:\n",
    "    print('Same in both directions.')\n",
    "both_lases_unique;"
   ]
  },
  {
   "cell_type": "code",
   "execution_count": 877,
   "metadata": {},
   "outputs": [],
   "source": [
    "randomlas_line = both_lases_unique.loc['2000-1-1' : '2017-1-1'].sample(n=1)"
   ]
  },
  {
   "cell_type": "code",
   "execution_count": 878,
   "metadata": {
    "scrolled": true
   },
   "outputs": [
    {
     "data": {
      "text/html": [
       "<div>\n",
       "<style scoped>\n",
       "    .dataframe tbody tr th:only-of-type {\n",
       "        vertical-align: middle;\n",
       "    }\n",
       "\n",
       "    .dataframe tbody tr th {\n",
       "        vertical-align: top;\n",
       "    }\n",
       "\n",
       "    .dataframe thead th {\n",
       "        text-align: right;\n",
       "    }\n",
       "</style>\n",
       "<table border=\"1\" class=\"dataframe\">\n",
       "  <thead>\n",
       "    <tr style=\"text-align: right;\">\n",
       "      <th></th>\n",
       "      <th>KGS_ID</th>\n",
       "      <th>Latitude</th>\n",
       "      <th>Longitude</th>\n",
       "      <th>Location</th>\n",
       "      <th>Operator</th>\n",
       "      <th>Lease</th>\n",
       "      <th>API</th>\n",
       "      <th>Elevation</th>\n",
       "      <th>Elev_Ref</th>\n",
       "      <th>Depth_start</th>\n",
       "      <th>Depth_stop</th>\n",
       "      <th>URL</th>\n",
       "    </tr>\n",
       "  </thead>\n",
       "  <tbody>\n",
       "    <tr>\n",
       "      <th>2005</th>\n",
       "      <td>1002905393</td>\n",
       "      <td>37.452055</td>\n",
       "      <td>-96.658314</td>\n",
       "      <td>T30S R7E, Sec. 10,   SW NW SW</td>\n",
       "      <td>RAYMOND T. DUNCAN INC.</td>\n",
       "      <td>WHITEHILL 1</td>\n",
       "      <td>15-035-23754</td>\n",
       "      <td>1447.0</td>\n",
       "      <td>KB</td>\n",
       "      <td>290.0</td>\n",
       "      <td>3408.0</td>\n",
       "      <td>http://www.kgs.ku.edu/WellLogs/30S07E/10439171...</td>\n",
       "    </tr>\n",
       "  </tbody>\n",
       "</table>\n",
       "</div>"
      ],
      "text/plain": [
       "          KGS_ID   Latitude  Longitude                       Location  \\\n",
       "2005  1002905393  37.452055 -96.658314  T30S R7E, Sec. 10,   SW NW SW   \n",
       "\n",
       "                    Operator        Lease           API  Elevation Elev_Ref  \\\n",
       "2005  RAYMOND T. DUNCAN INC.  WHITEHILL 1  15-035-23754     1447.0       KB   \n",
       "\n",
       "      Depth_start  Depth_stop  \\\n",
       "2005        290.0      3408.0   \n",
       "\n",
       "                                                    URL  \n",
       "2005  http://www.kgs.ku.edu/WellLogs/30S07E/10439171...  "
      ]
     },
     "execution_count": 878,
     "metadata": {},
     "output_type": "execute_result"
    }
   ],
   "source": [
    "str(randomlas_line['URL'])\n",
    "randomlas_line"
   ]
  },
  {
   "cell_type": "code",
   "execution_count": 879,
   "metadata": {},
   "outputs": [],
   "source": [
    "randomlas_url = randomlas_line['URL'].tolist()[0]\n",
    "randomlas_dl, _ = urllib.request.urlretrieve(randomlas_url)\n",
    "\n",
    "with zipfile.ZipFile(randomlas_dl,'r') as zip_randomlas:\n",
    "    zip_randomlas.extractall('temp')\n",
    "    # change temp to kgs id so temp file number will match"
   ]
  },
  {
   "cell_type": "code",
   "execution_count": 880,
   "metadata": {
    "scrolled": true
   },
   "outputs": [
    {
     "data": {
      "text/plain": [
       "1002905393"
      ]
     },
     "execution_count": 880,
     "metadata": {},
     "output_type": "execute_result"
    }
   ],
   "source": [
    "randomlas_line['KGS_ID'].tolist()[0]"
   ]
  },
  {
   "cell_type": "code",
   "execution_count": 1026,
   "metadata": {
    "scrolled": true
   },
   "outputs": [
    {
     "data": {
      "image/png": "[encoded data removed]",
      "text/plain": [
       "<Figure size 144x720 with 1 Axes>"
      ]
     },
     "metadata": {},
     "output_type": "display_data"
    }
   ],
   "source": [
    "from welly import Well; from welly import Curve\n",
    "l = Well.from_las('temp/1043917113.las') # hardcoded until I figure out how to get filename\n",
    "l.data['GR']\n",
    "l.data['GR'].plot(lw=0.5)\n",
    "#l.location.md(1039)\n",
    "rando_las = l.df()"
   ]
  },
  {
   "cell_type": "code",
   "execution_count": 1021,
   "metadata": {},
   "outputs": [
    {
     "data": {
      "text/plain": [
       "'DEPTH'"
      ]
     },
     "execution_count": 1021,
     "metadata": {},
     "output_type": "execute_result"
    }
   ],
   "source": [
    "rando_las.index.name\n",
    "#wtf??"
   ]
  },
  {
   "cell_type": "code",
   "execution_count": 1027,
   "metadata": {},
   "outputs": [
    {
     "data": {
      "text/html": [
       "<div>\n",
       "<style scoped>\n",
       "    .dataframe tbody tr th:only-of-type {\n",
       "        vertical-align: middle;\n",
       "    }\n",
       "\n",
       "    .dataframe tbody tr th {\n",
       "        vertical-align: top;\n",
       "    }\n",
       "\n",
       "    .dataframe thead th {\n",
       "        text-align: right;\n",
       "    }\n",
       "</style>\n",
       "<table border=\"1\" class=\"dataframe\">\n",
       "  <thead>\n",
       "    <tr style=\"text-align: right;\">\n",
       "      <th></th>\n",
       "      <th>GR</th>\n",
       "      <th>ILD</th>\n",
       "      <th>DT</th>\n",
       "      <th>DPHI</th>\n",
       "      <th>NPHI</th>\n",
       "    </tr>\n",
       "  </thead>\n",
       "  <tbody>\n",
       "    <tr>\n",
       "      <th>count</th>\n",
       "      <td>6205.000000</td>\n",
       "      <td>6145.000000</td>\n",
       "      <td>6147.000000</td>\n",
       "      <td>4023.000000</td>\n",
       "      <td>4023.000000</td>\n",
       "    </tr>\n",
       "    <tr>\n",
       "      <th>mean</th>\n",
       "      <td>74.157187</td>\n",
       "      <td>17.050905</td>\n",
       "      <td>77.510892</td>\n",
       "      <td>0.095966</td>\n",
       "      <td>0.157315</td>\n",
       "    </tr>\n",
       "    <tr>\n",
       "      <th>std</th>\n",
       "      <td>41.922877</td>\n",
       "      <td>42.524083</td>\n",
       "      <td>19.541804</td>\n",
       "      <td>0.069595</td>\n",
       "      <td>0.086781</td>\n",
       "    </tr>\n",
       "    <tr>\n",
       "      <th>min</th>\n",
       "      <td>11.582000</td>\n",
       "      <td>0.847000</td>\n",
       "      <td>45.933000</td>\n",
       "      <td>-0.055000</td>\n",
       "      <td>0.006000</td>\n",
       "    </tr>\n",
       "    <tr>\n",
       "      <th>25%</th>\n",
       "      <td>35.711000</td>\n",
       "      <td>4.962000</td>\n",
       "      <td>59.133000</td>\n",
       "      <td>0.051000</td>\n",
       "      <td>0.076000</td>\n",
       "    </tr>\n",
       "    <tr>\n",
       "      <th>50%</th>\n",
       "      <td>76.077000</td>\n",
       "      <td>7.007000</td>\n",
       "      <td>77.209000</td>\n",
       "      <td>0.083000</td>\n",
       "      <td>0.170000</td>\n",
       "    </tr>\n",
       "    <tr>\n",
       "      <th>75%</th>\n",
       "      <td>102.358000</td>\n",
       "      <td>18.460000</td>\n",
       "      <td>91.128000</td>\n",
       "      <td>0.118000</td>\n",
       "      <td>0.227000</td>\n",
       "    </tr>\n",
       "    <tr>\n",
       "      <th>max</th>\n",
       "      <td>301.762000</td>\n",
       "      <td>1963.496000</td>\n",
       "      <td>159.000000</td>\n",
       "      <td>0.300000</td>\n",
       "      <td>0.300000</td>\n",
       "    </tr>\n",
       "  </tbody>\n",
       "</table>\n",
       "</div>"
      ],
      "text/plain": [
       "                GR          ILD           DT         DPHI         NPHI\n",
       "count  6205.000000  6145.000000  6147.000000  4023.000000  4023.000000\n",
       "mean     74.157187    17.050905    77.510892     0.095966     0.157315\n",
       "std      41.922877    42.524083    19.541804     0.069595     0.086781\n",
       "min      11.582000     0.847000    45.933000    -0.055000     0.006000\n",
       "25%      35.711000     4.962000    59.133000     0.051000     0.076000\n",
       "50%      76.077000     7.007000    77.209000     0.083000     0.170000\n",
       "75%     102.358000    18.460000    91.128000     0.118000     0.227000\n",
       "max     301.762000  1963.496000   159.000000     0.300000     0.300000"
      ]
     },
     "execution_count": 1027,
     "metadata": {},
     "output_type": "execute_result"
    }
   ],
   "source": [
    "rando_las.describe()\n",
    "#Depth isn't a column on this LAS file, how can it\n",
    "#be referenced in the function?"
   ]
  },
  {
   "cell_type": "code",
   "execution_count": 1032,
   "metadata": {},
   "outputs": [],
   "source": [
    "def logchunks(wellname, GR):\n",
    "    \n",
    "    width = 150\n",
    "    height = 900\n",
    "   \n",
    "    ########## stop feeling like a potato\n",
    "    \n",
    "    fig = plt.figure()\n",
    "    ax1 = fig.add_subplot(232)\n",
    "    \n",
    "    #need y axis defined here:\n",
    "    ax1.plot(GR, rando_las['DEPTH'], \"r\", data = wellname)\n",
    "    \n",
    "    ax1.set(xlabel = GR)\n",
    "    ax1.grid()\n",
    "    plt.gca().invert_yaxis()\n",
    "    DPI = fig.get_dpi()\n",
    "    fig.set_size_inches(width/float(DPI),height/float(DPI))\n",
    "    fig.canvas.draw()\n",
    "    plt.close('all')\n",
    "\n",
    "    bawps_new = np.frombuffer(fig.canvas.tostring_rgb(), dtype=np.uint8)\n",
    "    im_shape = fig.canvas.get_width_height()[::-1]\n",
    "    bawps_new = bawps_new.reshape(*im_shape, 3)\n",
    "    \n",
    "    numchunk = 10\n",
    "    chunks2 = []\n",
    "    for i in range(numchunk):\n",
    "        \n",
    "        #need y axis defined here:\n",
    "        Depth_array = np.array(rando_las['DEPTH']).size\n",
    "        \n",
    "        chunklen = int(Depth_array/numchunk)\n",
    "        chunks1 = ((bawps_new[(i*chunklen):((i+1)*chunklen), : ,2]))\n",
    "        chunks2.append(chunks1)\n",
    "    sum_if_blank = 255*chunklen*int(chunks2[0].shape[1])\n",
    "    chunks = [x for x in chunks2 if np.sum(x) != sum_if_blank]\n",
    "    \n",
    "    for i in range(len(chunks)):\n",
    "        plt.subplots()\n",
    "        plt.imshow(chunks[i], cmap = \"Greys_r\")\n",
    "        \n",
    "    return chunks\n",
    "\n",
    "\n",
    "#play with padding or margins to make well log same size as chunks     "
   ]
  },
  {
   "cell_type": "code",
   "execution_count": 1033,
   "metadata": {},
   "outputs": [
    {
     "ename": "KeyError",
     "evalue": "'DEPTH'",
     "output_type": "error",
     "traceback": [
      "\u001b[0;31m---------------------------------------------------------------------------\u001b[0m",
      "\u001b[0;31mKeyError\u001b[0m                                  Traceback (most recent call last)",
      "\u001b[0;32m~/anaconda3/lib/python3.6/site-packages/pandas/core/indexes/base.py\u001b[0m in \u001b[0;36mget_loc\u001b[0;34m(self, key, method, tolerance)\u001b[0m\n\u001b[1;32m   3062\u001b[0m             \u001b[0;32mtry\u001b[0m\u001b[0;34m:\u001b[0m\u001b[0;34m\u001b[0m\u001b[0m\n\u001b[0;32m-> 3063\u001b[0;31m                 \u001b[0;32mreturn\u001b[0m \u001b[0mself\u001b[0m\u001b[0;34m.\u001b[0m\u001b[0m_engine\u001b[0m\u001b[0;34m.\u001b[0m\u001b[0mget_loc\u001b[0m\u001b[0;34m(\u001b[0m\u001b[0mkey\u001b[0m\u001b[0;34m)\u001b[0m\u001b[0;34m\u001b[0m\u001b[0m\n\u001b[0m\u001b[1;32m   3064\u001b[0m             \u001b[0;32mexcept\u001b[0m \u001b[0mKeyError\u001b[0m\u001b[0;34m:\u001b[0m\u001b[0;34m\u001b[0m\u001b[0m\n",
      "\u001b[0;32mpandas/_libs/index.pyx\u001b[0m in \u001b[0;36mpandas._libs.index.IndexEngine.get_loc\u001b[0;34m()\u001b[0m\n",
      "\u001b[0;32mpandas/_libs/index.pyx\u001b[0m in \u001b[0;36mpandas._libs.index.IndexEngine.get_loc\u001b[0;34m()\u001b[0m\n",
      "\u001b[0;32mpandas/_libs/hashtable_class_helper.pxi\u001b[0m in \u001b[0;36mpandas._libs.hashtable.PyObjectHashTable.get_item\u001b[0;34m()\u001b[0m\n",
      "\u001b[0;32mpandas/_libs/hashtable_class_helper.pxi\u001b[0m in \u001b[0;36mpandas._libs.hashtable.PyObjectHashTable.get_item\u001b[0;34m()\u001b[0m\n",
      "\u001b[0;31mKeyError\u001b[0m: 'DEPTH'",
      "\nDuring handling of the above exception, another exception occurred:\n",
      "\u001b[0;31mKeyError\u001b[0m                                  Traceback (most recent call last)",
      "\u001b[0;32m<ipython-input-1033-877ef2caa8a0>\u001b[0m in \u001b[0;36m<module>\u001b[0;34m()\u001b[0m\n\u001b[0;32m----> 1\u001b[0;31m \u001b[0mlogchunks\u001b[0m\u001b[0;34m(\u001b[0m\u001b[0mrando_las\u001b[0m\u001b[0;34m,\u001b[0m \u001b[0;34m'GR'\u001b[0m\u001b[0;34m)\u001b[0m\u001b[0;34m\u001b[0m\u001b[0m\n\u001b[0m",
      "\u001b[0;32m<ipython-input-1032-97c21a47d0cf>\u001b[0m in \u001b[0;36mlogchunks\u001b[0;34m(wellname, GR)\u001b[0m\n\u001b[1;32m     10\u001b[0m \u001b[0;34m\u001b[0m\u001b[0m\n\u001b[1;32m     11\u001b[0m     \u001b[0;31m#need y axis defined here:\u001b[0m\u001b[0;34m\u001b[0m\u001b[0;34m\u001b[0m\u001b[0m\n\u001b[0;32m---> 12\u001b[0;31m     \u001b[0max1\u001b[0m\u001b[0;34m.\u001b[0m\u001b[0mplot\u001b[0m\u001b[0;34m(\u001b[0m\u001b[0mGR\u001b[0m\u001b[0;34m,\u001b[0m \u001b[0mrando_las\u001b[0m\u001b[0;34m[\u001b[0m\u001b[0;34m'DEPTH'\u001b[0m\u001b[0;34m]\u001b[0m\u001b[0;34m,\u001b[0m \u001b[0;34m\"r\"\u001b[0m\u001b[0;34m,\u001b[0m \u001b[0mdata\u001b[0m \u001b[0;34m=\u001b[0m \u001b[0mwellname\u001b[0m\u001b[0;34m)\u001b[0m\u001b[0;34m\u001b[0m\u001b[0m\n\u001b[0m\u001b[1;32m     13\u001b[0m \u001b[0;34m\u001b[0m\u001b[0m\n\u001b[1;32m     14\u001b[0m     \u001b[0max1\u001b[0m\u001b[0;34m.\u001b[0m\u001b[0mset\u001b[0m\u001b[0;34m(\u001b[0m\u001b[0mxlabel\u001b[0m \u001b[0;34m=\u001b[0m \u001b[0mGR\u001b[0m\u001b[0;34m)\u001b[0m\u001b[0;34m\u001b[0m\u001b[0m\n",
      "\u001b[0;32m~/anaconda3/lib/python3.6/site-packages/pandas/core/frame.py\u001b[0m in \u001b[0;36m__getitem__\u001b[0;34m(self, key)\u001b[0m\n\u001b[1;32m   2683\u001b[0m             \u001b[0;32mreturn\u001b[0m \u001b[0mself\u001b[0m\u001b[0;34m.\u001b[0m\u001b[0m_getitem_multilevel\u001b[0m\u001b[0;34m(\u001b[0m\u001b[0mkey\u001b[0m\u001b[0;34m)\u001b[0m\u001b[0;34m\u001b[0m\u001b[0m\n\u001b[1;32m   2684\u001b[0m         \u001b[0;32melse\u001b[0m\u001b[0;34m:\u001b[0m\u001b[0;34m\u001b[0m\u001b[0m\n\u001b[0;32m-> 2685\u001b[0;31m             \u001b[0;32mreturn\u001b[0m \u001b[0mself\u001b[0m\u001b[0;34m.\u001b[0m\u001b[0m_getitem_column\u001b[0m\u001b[0;34m(\u001b[0m\u001b[0mkey\u001b[0m\u001b[0;34m)\u001b[0m\u001b[0;34m\u001b[0m\u001b[0m\n\u001b[0m\u001b[1;32m   2686\u001b[0m \u001b[0;34m\u001b[0m\u001b[0m\n\u001b[1;32m   2687\u001b[0m     \u001b[0;32mdef\u001b[0m \u001b[0m_getitem_column\u001b[0m\u001b[0;34m(\u001b[0m\u001b[0mself\u001b[0m\u001b[0;34m,\u001b[0m \u001b[0mkey\u001b[0m\u001b[0;34m)\u001b[0m\u001b[0;34m:\u001b[0m\u001b[0;34m\u001b[0m\u001b[0m\n",
      "\u001b[0;32m~/anaconda3/lib/python3.6/site-packages/pandas/core/frame.py\u001b[0m in \u001b[0;36m_getitem_column\u001b[0;34m(self, key)\u001b[0m\n\u001b[1;32m   2690\u001b[0m         \u001b[0;31m# get column\u001b[0m\u001b[0;34m\u001b[0m\u001b[0;34m\u001b[0m\u001b[0m\n\u001b[1;32m   2691\u001b[0m         \u001b[0;32mif\u001b[0m \u001b[0mself\u001b[0m\u001b[0;34m.\u001b[0m\u001b[0mcolumns\u001b[0m\u001b[0;34m.\u001b[0m\u001b[0mis_unique\u001b[0m\u001b[0;34m:\u001b[0m\u001b[0;34m\u001b[0m\u001b[0m\n\u001b[0;32m-> 2692\u001b[0;31m             \u001b[0;32mreturn\u001b[0m \u001b[0mself\u001b[0m\u001b[0;34m.\u001b[0m\u001b[0m_get_item_cache\u001b[0m\u001b[0;34m(\u001b[0m\u001b[0mkey\u001b[0m\u001b[0;34m)\u001b[0m\u001b[0;34m\u001b[0m\u001b[0m\n\u001b[0m\u001b[1;32m   2693\u001b[0m \u001b[0;34m\u001b[0m\u001b[0m\n\u001b[1;32m   2694\u001b[0m         \u001b[0;31m# duplicate columns & possible reduce dimensionality\u001b[0m\u001b[0;34m\u001b[0m\u001b[0;34m\u001b[0m\u001b[0m\n",
      "\u001b[0;32m~/anaconda3/lib/python3.6/site-packages/pandas/core/generic.py\u001b[0m in \u001b[0;36m_get_item_cache\u001b[0;34m(self, item)\u001b[0m\n\u001b[1;32m   2484\u001b[0m         \u001b[0mres\u001b[0m \u001b[0;34m=\u001b[0m \u001b[0mcache\u001b[0m\u001b[0;34m.\u001b[0m\u001b[0mget\u001b[0m\u001b[0;34m(\u001b[0m\u001b[0mitem\u001b[0m\u001b[0;34m)\u001b[0m\u001b[0;34m\u001b[0m\u001b[0m\n\u001b[1;32m   2485\u001b[0m         \u001b[0;32mif\u001b[0m \u001b[0mres\u001b[0m \u001b[0;32mis\u001b[0m \u001b[0;32mNone\u001b[0m\u001b[0;34m:\u001b[0m\u001b[0;34m\u001b[0m\u001b[0m\n\u001b[0;32m-> 2486\u001b[0;31m             \u001b[0mvalues\u001b[0m \u001b[0;34m=\u001b[0m \u001b[0mself\u001b[0m\u001b[0;34m.\u001b[0m\u001b[0m_data\u001b[0m\u001b[0;34m.\u001b[0m\u001b[0mget\u001b[0m\u001b[0;34m(\u001b[0m\u001b[0mitem\u001b[0m\u001b[0;34m)\u001b[0m\u001b[0;34m\u001b[0m\u001b[0m\n\u001b[0m\u001b[1;32m   2487\u001b[0m             \u001b[0mres\u001b[0m \u001b[0;34m=\u001b[0m \u001b[0mself\u001b[0m\u001b[0;34m.\u001b[0m\u001b[0m_box_item_values\u001b[0m\u001b[0;34m(\u001b[0m\u001b[0mitem\u001b[0m\u001b[0;34m,\u001b[0m \u001b[0mvalues\u001b[0m\u001b[0;34m)\u001b[0m\u001b[0;34m\u001b[0m\u001b[0m\n\u001b[1;32m   2488\u001b[0m             \u001b[0mcache\u001b[0m\u001b[0;34m[\u001b[0m\u001b[0mitem\u001b[0m\u001b[0;34m]\u001b[0m \u001b[0;34m=\u001b[0m \u001b[0mres\u001b[0m\u001b[0;34m\u001b[0m\u001b[0m\n",
      "\u001b[0;32m~/anaconda3/lib/python3.6/site-packages/pandas/core/internals.py\u001b[0m in \u001b[0;36mget\u001b[0;34m(self, item, fastpath)\u001b[0m\n\u001b[1;32m   4113\u001b[0m \u001b[0;34m\u001b[0m\u001b[0m\n\u001b[1;32m   4114\u001b[0m             \u001b[0;32mif\u001b[0m \u001b[0;32mnot\u001b[0m \u001b[0misna\u001b[0m\u001b[0;34m(\u001b[0m\u001b[0mitem\u001b[0m\u001b[0;34m)\u001b[0m\u001b[0;34m:\u001b[0m\u001b[0;34m\u001b[0m\u001b[0m\n\u001b[0;32m-> 4115\u001b[0;31m                 \u001b[0mloc\u001b[0m \u001b[0;34m=\u001b[0m \u001b[0mself\u001b[0m\u001b[0;34m.\u001b[0m\u001b[0mitems\u001b[0m\u001b[0;34m.\u001b[0m\u001b[0mget_loc\u001b[0m\u001b[0;34m(\u001b[0m\u001b[0mitem\u001b[0m\u001b[0;34m)\u001b[0m\u001b[0;34m\u001b[0m\u001b[0m\n\u001b[0m\u001b[1;32m   4116\u001b[0m             \u001b[0;32melse\u001b[0m\u001b[0;34m:\u001b[0m\u001b[0;34m\u001b[0m\u001b[0m\n\u001b[1;32m   4117\u001b[0m                 \u001b[0mindexer\u001b[0m \u001b[0;34m=\u001b[0m \u001b[0mnp\u001b[0m\u001b[0;34m.\u001b[0m\u001b[0marange\u001b[0m\u001b[0;34m(\u001b[0m\u001b[0mlen\u001b[0m\u001b[0;34m(\u001b[0m\u001b[0mself\u001b[0m\u001b[0;34m.\u001b[0m\u001b[0mitems\u001b[0m\u001b[0;34m)\u001b[0m\u001b[0;34m)\u001b[0m\u001b[0;34m[\u001b[0m\u001b[0misna\u001b[0m\u001b[0;34m(\u001b[0m\u001b[0mself\u001b[0m\u001b[0;34m.\u001b[0m\u001b[0mitems\u001b[0m\u001b[0;34m)\u001b[0m\u001b[0;34m]\u001b[0m\u001b[0;34m\u001b[0m\u001b[0m\n",
      "\u001b[0;32m~/anaconda3/lib/python3.6/site-packages/pandas/core/indexes/base.py\u001b[0m in \u001b[0;36mget_loc\u001b[0;34m(self, key, method, tolerance)\u001b[0m\n\u001b[1;32m   3063\u001b[0m                 \u001b[0;32mreturn\u001b[0m \u001b[0mself\u001b[0m\u001b[0;34m.\u001b[0m\u001b[0m_engine\u001b[0m\u001b[0;34m.\u001b[0m\u001b[0mget_loc\u001b[0m\u001b[0;34m(\u001b[0m\u001b[0mkey\u001b[0m\u001b[0;34m)\u001b[0m\u001b[0;34m\u001b[0m\u001b[0m\n\u001b[1;32m   3064\u001b[0m             \u001b[0;32mexcept\u001b[0m \u001b[0mKeyError\u001b[0m\u001b[0;34m:\u001b[0m\u001b[0;34m\u001b[0m\u001b[0m\n\u001b[0;32m-> 3065\u001b[0;31m                 \u001b[0;32mreturn\u001b[0m \u001b[0mself\u001b[0m\u001b[0;34m.\u001b[0m\u001b[0m_engine\u001b[0m\u001b[0;34m.\u001b[0m\u001b[0mget_loc\u001b[0m\u001b[0;34m(\u001b[0m\u001b[0mself\u001b[0m\u001b[0;34m.\u001b[0m\u001b[0m_maybe_cast_indexer\u001b[0m\u001b[0;34m(\u001b[0m\u001b[0mkey\u001b[0m\u001b[0;34m)\u001b[0m\u001b[0;34m)\u001b[0m\u001b[0;34m\u001b[0m\u001b[0m\n\u001b[0m\u001b[1;32m   3066\u001b[0m \u001b[0;34m\u001b[0m\u001b[0m\n\u001b[1;32m   3067\u001b[0m         \u001b[0mindexer\u001b[0m \u001b[0;34m=\u001b[0m \u001b[0mself\u001b[0m\u001b[0;34m.\u001b[0m\u001b[0mget_indexer\u001b[0m\u001b[0;34m(\u001b[0m\u001b[0;34m[\u001b[0m\u001b[0mkey\u001b[0m\u001b[0;34m]\u001b[0m\u001b[0;34m,\u001b[0m \u001b[0mmethod\u001b[0m\u001b[0;34m=\u001b[0m\u001b[0mmethod\u001b[0m\u001b[0;34m,\u001b[0m \u001b[0mtolerance\u001b[0m\u001b[0;34m=\u001b[0m\u001b[0mtolerance\u001b[0m\u001b[0;34m)\u001b[0m\u001b[0;34m\u001b[0m\u001b[0m\n",
      "\u001b[0;32mpandas/_libs/index.pyx\u001b[0m in \u001b[0;36mpandas._libs.index.IndexEngine.get_loc\u001b[0;34m()\u001b[0m\n",
      "\u001b[0;32mpandas/_libs/index.pyx\u001b[0m in \u001b[0;36mpandas._libs.index.IndexEngine.get_loc\u001b[0;34m()\u001b[0m\n",
      "\u001b[0;32mpandas/_libs/hashtable_class_helper.pxi\u001b[0m in \u001b[0;36mpandas._libs.hashtable.PyObjectHashTable.get_item\u001b[0;34m()\u001b[0m\n",
      "\u001b[0;32mpandas/_libs/hashtable_class_helper.pxi\u001b[0m in \u001b[0;36mpandas._libs.hashtable.PyObjectHashTable.get_item\u001b[0;34m()\u001b[0m\n",
      "\u001b[0;31mKeyError\u001b[0m: 'DEPTH'"
     ]
    },
    {
     "data": {
      "image/png": "[encoded data removed]",
      "text/plain": [
       "<Figure size 432x288 with 1 Axes>"
      ]
     },
     "metadata": {},
     "output_type": "display_data"
    }
   ],
   "source": [
    "logchunks(rando_las, 'GR')"
   ]
  },
  {
   "cell_type": "code",
   "execution_count": null,
   "metadata": {},
   "outputs": [],
   "source": []
  }
 ],
 "metadata": {
  "kernelspec": {
   "display_name": "Python 3",
   "language": "python",
   "name": "python3"
  },
  "language_info": {
   "codemirror_mode": {
    "name": "ipython",
    "version": 3
   },
   "file_extension": ".py",
   "mimetype": "text/x-python",
   "name": "python",
   "nbconvert_exporter": "python",
   "pygments_lexer": "ipython3",
   "version": "3.6.5"
  }
 },
 "nbformat": 4,
 "nbformat_minor": 2
}

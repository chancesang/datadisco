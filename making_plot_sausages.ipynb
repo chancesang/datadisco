{
 "cells": [
  {
   "cell_type": "markdown",
   "metadata": {},
   "source": [
    "# How the sausage is made"
   ]
  },
  {
   "cell_type": "code",
   "execution_count": 5,
   "metadata": {},
   "outputs": [],
   "source": [
    "import numpy as np\n",
    "import matplotlib.pyplot as plt\n",
    "import pandas as pd"
   ]
  },
  {
   "cell_type": "code",
   "execution_count": null,
   "metadata": {},
   "outputs": [],
   "source": [
    "# Generate random numbers as an example\n",
    "rn = np.random.uniform(low=0, high=1, size=(20,))\n",
    "\n",
    "# Make a random plot...\n",
    "fig = plt.figure()\n",
    "ax = fig.add_subplot(111)\n",
    "ax.plot(rn,\"r\")\n",
    "ax.grid()\n",
    "#######################\n",
    "\n",
    "\n",
    "# Setup the canvas object to extract images INCLUDING axes elements\n",
    "width = 900 #pixels\n",
    "height = 150 #pixels\n",
    "# matplotlib likes image sizes in inches (thanks America)\n",
    "# so we need to now how many pixels fit on an inch on your screen (DotsPerInch)\n",
    "DPI = fig.get_dpi()\n",
    "fig.set_size_inches(width/float(DPI),height/float(DPI))\n",
    "fig.canvas.draw()\n",
    "#######################\n",
    "\n",
    "# Now we can save it to a numpy array. These are faily obscure functions...\n",
    "# the .tostring_rgb() generates a binary representation of the WHOLE plot\n",
    "# np.frombuffer reads the binary and interprets it as a collection of integers\n",
    "# At the end they're just a long list of RGB colors in 1 dimension\n",
    "data = np.frombuffer(fig.canvas.tostring_rgb(), dtype=np.uint8)\n",
    "\n",
    "# Retrieve the original shape of the plot inverted (height, width)\n",
    "im_shape = fig.canvas.get_width_height()[::-1]\n",
    "\n",
    "# We can now make a 3-D array (height, width, 3) \"one 2D image per color channel\"\n",
    "data = data.reshape(*im_shape, 3)"
   ]
  },
  {
   "cell_type": "code",
   "execution_count": null,
   "metadata": {},
   "outputs": [],
   "source": [
    "plt.imshow(data[:,0:150,2], cmap=\"Greys_r\")"
   ]
  },
  {
   "cell_type": "code",
   "execution_count": null,
   "metadata": {},
   "outputs": [],
   "source": [
    "plt.imshow(data[:,150:300,2], cmap=\"Greys_r\")"
   ]
  },
  {
   "cell_type": "code",
   "execution_count": 6,
   "metadata": {},
   "outputs": [],
   "source": [
    "shrimplin = pd.read_csv('shrimplin.csv')\n"
   ]
  },
  {
   "cell_type": "code",
   "execution_count": 448,
   "metadata": {},
   "outputs": [],
   "source": [
    "def logchunks(wellname, GR):\n",
    "    \n",
    "    width = 150\n",
    "    height = 900\n",
    "   \n",
    "    ########## mask chunks whose value is the same everywhere (blank chunks),\n",
    "    ########## stop feeling like a potato\n",
    "    \n",
    "    fig = plt.figure()\n",
    "    ax1 = fig.add_subplot(232)\n",
    "    ax1.plot(GR, 'Depth', \"r\", data = wellname)\n",
    "    ax1.set(xlabel = GR)\n",
    "    ax1.grid()\n",
    "    plt.gca().invert_yaxis()\n",
    "    DPI = fig.get_dpi()\n",
    "    fig.set_size_inches(width/float(DPI),height/float(DPI))\n",
    "    fig.canvas.draw()\n",
    "    plt.close('all')\n",
    "\n",
    "    bawps_new = np.frombuffer(fig.canvas.tostring_rgb(), dtype=np.uint8)\n",
    "    im_shape = fig.canvas.get_width_height()[::-1]\n",
    "    bawps_new = bawps_new.reshape(*im_shape, 3)\n",
    "    \n",
    "    numchunk = 10\n",
    "    for i in range(numchunk):\n",
    "        plt.subplots()\n",
    "        Depth_array = np.array(wellname['Depth']).size\n",
    "        chunklen = int(Depth_array/numchunk)\n",
    "        #plt.imshow((bawps_new[(i*chunklen):((i+1)*chunklen), : ,2]), cmap=\"Greys_r\")\n",
    "        chunks = list((bawps_new[(i*chunklen):((i+1)*chunklen), : ,2]))\n",
    "        chunks = [x for x in chunks if sum(x) != 38250]\n",
    "        plt.imshow(chunks[1][:,:,0], cmap=\"Greys_r\")\n",
    "        \n",
    "#return list of chunks here, do they need to be saved as a file?\n",
    "    return chunks"
   ]
  },
  {
   "cell_type": "code",
   "execution_count": 449,
   "metadata": {},
   "outputs": [
    {
     "ename": "IndexError",
     "evalue": "list index out of range",
     "output_type": "error",
     "traceback": [
      "\u001b[0;31m---------------------------------------------------------------------------\u001b[0m",
      "\u001b[0;31mIndexError\u001b[0m                                Traceback (most recent call last)",
      "\u001b[0;32m<ipython-input-449-2861fa456fbb>\u001b[0m in \u001b[0;36m<module>\u001b[0;34m()\u001b[0m\n\u001b[0;32m----> 1\u001b[0;31m \u001b[0mlogchunks\u001b[0m\u001b[0;34m(\u001b[0m\u001b[0mshrimplin\u001b[0m\u001b[0;34m,\u001b[0m \u001b[0;34m'GR'\u001b[0m\u001b[0;34m)\u001b[0m\u001b[0;34m\u001b[0m\u001b[0m\n\u001b[0m",
      "\u001b[0;32m<ipython-input-448-226fcce0327a>\u001b[0m in \u001b[0;36mlogchunks\u001b[0;34m(wellname, GR)\u001b[0m\n\u001b[1;32m     30\u001b[0m         \u001b[0mchunks\u001b[0m \u001b[0;34m=\u001b[0m \u001b[0mlist\u001b[0m\u001b[0;34m(\u001b[0m\u001b[0;34m(\u001b[0m\u001b[0mbawps_new\u001b[0m\u001b[0;34m[\u001b[0m\u001b[0;34m(\u001b[0m\u001b[0mi\u001b[0m\u001b[0;34m*\u001b[0m\u001b[0mchunklen\u001b[0m\u001b[0;34m)\u001b[0m\u001b[0;34m:\u001b[0m\u001b[0;34m(\u001b[0m\u001b[0;34m(\u001b[0m\u001b[0mi\u001b[0m\u001b[0;34m+\u001b[0m\u001b[0;36m1\u001b[0m\u001b[0;34m)\u001b[0m\u001b[0;34m*\u001b[0m\u001b[0mchunklen\u001b[0m\u001b[0;34m)\u001b[0m\u001b[0;34m,\u001b[0m \u001b[0;34m:\u001b[0m \u001b[0;34m,\u001b[0m\u001b[0;36m2\u001b[0m\u001b[0;34m]\u001b[0m\u001b[0;34m)\u001b[0m\u001b[0;34m)\u001b[0m\u001b[0;34m\u001b[0m\u001b[0m\n\u001b[1;32m     31\u001b[0m         \u001b[0mchunks\u001b[0m \u001b[0;34m=\u001b[0m \u001b[0;34m[\u001b[0m\u001b[0mx\u001b[0m \u001b[0;32mfor\u001b[0m \u001b[0mx\u001b[0m \u001b[0;32min\u001b[0m \u001b[0mchunks\u001b[0m \u001b[0;32mif\u001b[0m \u001b[0msum\u001b[0m\u001b[0;34m(\u001b[0m\u001b[0mx\u001b[0m\u001b[0;34m)\u001b[0m \u001b[0;34m!=\u001b[0m \u001b[0;36m38250\u001b[0m\u001b[0;34m]\u001b[0m\u001b[0;34m\u001b[0m\u001b[0m\n\u001b[0;32m---> 32\u001b[0;31m         \u001b[0mplt\u001b[0m\u001b[0;34m.\u001b[0m\u001b[0mimshow\u001b[0m\u001b[0;34m(\u001b[0m\u001b[0mchunks\u001b[0m\u001b[0;34m[\u001b[0m\u001b[0;36m1\u001b[0m\u001b[0;34m]\u001b[0m\u001b[0;34m[\u001b[0m\u001b[0;34m:\u001b[0m\u001b[0;34m,\u001b[0m\u001b[0;34m:\u001b[0m\u001b[0;34m,\u001b[0m\u001b[0;36m0\u001b[0m\u001b[0;34m]\u001b[0m\u001b[0;34m,\u001b[0m \u001b[0mcmap\u001b[0m\u001b[0;34m=\u001b[0m\u001b[0;34m\"Greys_r\"\u001b[0m\u001b[0;34m)\u001b[0m\u001b[0;34m\u001b[0m\u001b[0m\n\u001b[0m\u001b[1;32m     33\u001b[0m \u001b[0;34m\u001b[0m\u001b[0m\n\u001b[1;32m     34\u001b[0m \u001b[0;31m#return list of chunks here, do they need to be saved as a file?\u001b[0m\u001b[0;34m\u001b[0m\u001b[0;34m\u001b[0m\u001b[0m\n",
      "\u001b[0;31mIndexError\u001b[0m: list index out of range"
     ]
    },
    {
     "data": {
      "image/png": "[encoded data removed]",
      "text/plain": [
       "<Figure size 432x288 with 1 Axes>"
      ]
     },
     "metadata": {},
     "output_type": "display_data"
    }
   ],
   "source": [
    "logchunks(shrimplin, 'GR')"
   ]
  },
  {
   "cell_type": "code",
   "execution_count": 8,
   "metadata": {},
   "outputs": [],
   "source": [
    "import zipfile; import os; import urllib\n",
    "\n",
    "os.makedirs('./temp', exist_ok=True)\n",
    "laspath = 'http://www.kgs.ku.edu/PRS/Ora_Archive/ks_las_files.zip'\n",
    "\n",
    "las_handle, _ = urllib.request.urlretrieve(laspath)\n",
    "\n",
    "with zipfile.ZipFile(las_handle,'r') as zip_las:\n",
    "    zip_las.extractall('temp')"
   ]
  },
  {
   "cell_type": "code",
   "execution_count": 9,
   "metadata": {},
   "outputs": [],
   "source": [
    "lases = pd.read_csv('temp/ks_las_files.txt', parse_dates=True)"
   ]
  },
  {
   "cell_type": "code",
   "execution_count": 11,
   "metadata": {},
   "outputs": [
    {
     "data": {
      "text/html": [
       "<div>\n",
       "<style scoped>\n",
       "    .dataframe tbody tr th:only-of-type {\n",
       "        vertical-align: middle;\n",
       "    }\n",
       "\n",
       "    .dataframe tbody tr th {\n",
       "        vertical-align: top;\n",
       "    }\n",
       "\n",
       "    .dataframe thead th {\n",
       "        text-align: right;\n",
       "    }\n",
       "</style>\n",
       "<table border=\"1\" class=\"dataframe\">\n",
       "  <thead>\n",
       "    <tr style=\"text-align: right;\">\n",
       "      <th></th>\n",
       "      <th>KGS_ID</th>\n",
       "      <th>Latitude</th>\n",
       "      <th>Longitude</th>\n",
       "      <th>Elevation</th>\n",
       "      <th>Depth_start</th>\n",
       "      <th>Depth_stop</th>\n",
       "    </tr>\n",
       "  </thead>\n",
       "  <tbody>\n",
       "    <tr>\n",
       "      <th>count</th>\n",
       "      <td>1.916500e+04</td>\n",
       "      <td>19165.000000</td>\n",
       "      <td>19165.000000</td>\n",
       "      <td>19159.000000</td>\n",
       "      <td>19165.000000</td>\n",
       "      <td>19165.000000</td>\n",
       "    </tr>\n",
       "    <tr>\n",
       "      <th>mean</th>\n",
       "      <td>1.031486e+09</td>\n",
       "      <td>38.276476</td>\n",
       "      <td>-99.249304</td>\n",
       "      <td>2173.781260</td>\n",
       "      <td>800.008736</td>\n",
       "      <td>3840.647071</td>\n",
       "    </tr>\n",
       "    <tr>\n",
       "      <th>std</th>\n",
       "      <td>1.764971e+07</td>\n",
       "      <td>0.765191</td>\n",
       "      <td>1.697671</td>\n",
       "      <td>706.455206</td>\n",
       "      <td>1295.930823</td>\n",
       "      <td>1745.073655</td>\n",
       "    </tr>\n",
       "    <tr>\n",
       "      <th>min</th>\n",
       "      <td>1.001184e+09</td>\n",
       "      <td>36.994026</td>\n",
       "      <td>-102.043705</td>\n",
       "      <td>5.000000</td>\n",
       "      <td>-46.000000</td>\n",
       "      <td>-18.700000</td>\n",
       "    </tr>\n",
       "    <tr>\n",
       "      <th>25%</th>\n",
       "      <td>1.006144e+09</td>\n",
       "      <td>37.604628</td>\n",
       "      <td>-100.600278</td>\n",
       "      <td>1716.000000</td>\n",
       "      <td>1.000000</td>\n",
       "      <td>3276.000000</td>\n",
       "    </tr>\n",
       "    <tr>\n",
       "      <th>50%</th>\n",
       "      <td>1.043236e+09</td>\n",
       "      <td>38.294353</td>\n",
       "      <td>-99.465587</td>\n",
       "      <td>2146.000000</td>\n",
       "      <td>200.000000</td>\n",
       "      <td>3961.500000</td>\n",
       "    </tr>\n",
       "    <tr>\n",
       "      <th>75%</th>\n",
       "      <td>1.044240e+09</td>\n",
       "      <td>38.816418</td>\n",
       "      <td>-98.531039</td>\n",
       "      <td>2788.000000</td>\n",
       "      <td>995.000000</td>\n",
       "      <td>4760.000000</td>\n",
       "    </tr>\n",
       "    <tr>\n",
       "      <th>max</th>\n",
       "      <td>1.046666e+09</td>\n",
       "      <td>40.001832</td>\n",
       "      <td>-94.629981</td>\n",
       "      <td>3955.000000</td>\n",
       "      <td>38550.000000</td>\n",
       "      <td>63841.000000</td>\n",
       "    </tr>\n",
       "  </tbody>\n",
       "</table>\n",
       "</div>"
      ],
      "text/plain": [
       "             KGS_ID      Latitude     Longitude     Elevation   Depth_start  \\\n",
       "count  1.916500e+04  19165.000000  19165.000000  19159.000000  19165.000000   \n",
       "mean   1.031486e+09     38.276476    -99.249304   2173.781260    800.008736   \n",
       "std    1.764971e+07      0.765191      1.697671    706.455206   1295.930823   \n",
       "min    1.001184e+09     36.994026   -102.043705      5.000000    -46.000000   \n",
       "25%    1.006144e+09     37.604628   -100.600278   1716.000000      1.000000   \n",
       "50%    1.043236e+09     38.294353    -99.465587   2146.000000    200.000000   \n",
       "75%    1.044240e+09     38.816418    -98.531039   2788.000000    995.000000   \n",
       "max    1.046666e+09     40.001832    -94.629981   3955.000000  38550.000000   \n",
       "\n",
       "         Depth_stop  \n",
       "count  19165.000000  \n",
       "mean    3840.647071  \n",
       "std     1745.073655  \n",
       "min      -18.700000  \n",
       "25%     3276.000000  \n",
       "50%     3961.500000  \n",
       "75%     4760.000000  \n",
       "max    63841.000000  "
      ]
     },
     "execution_count": 11,
     "metadata": {},
     "output_type": "execute_result"
    }
   ],
   "source": [
    "lases.describe()"
   ]
  },
  {
   "cell_type": "code",
   "execution_count": 19,
   "metadata": {},
   "outputs": [],
   "source": [
    "def logchunks(wellname, GR):\n",
    "    \n",
    "    width = 150\n",
    "    height = 900\n",
    "   \n",
    "    ###################### hide first plot, stop feeling like a potato\n",
    "    \n",
    "    fig = plt.figure()\n",
    "    ax1 = fig.add_subplot(232)\n",
    "    ax1.plot(GR, 'Elevation', \"r\", data = wellname)\n",
    "    ax1.set(xlabel = GR)\n",
    "    ax1.grid()\n",
    "    plt.gca().invert_yaxis()\n",
    "    DPI = fig.get_dpi()\n",
    "    fig.set_size_inches(width/float(DPI),height/float(DPI))\n",
    "    fig.canvas.draw()\n",
    "    plt.close('all')\n",
    "\n",
    "    bawps_new = np.frombuffer(fig.canvas.tostring_rgb(), dtype=np.uint8)\n",
    "    im_shape = fig.canvas.get_width_height()[::-1]\n",
    "    bawps_new = bawps_new.reshape(*im_shape, 3)\n",
    "    \n",
    "    numchunk = 10\n",
    "    for i in range(numchunk):\n",
    "        plt.subplots()\n",
    "        Depth_array = np.array(wellname['Elevation']).size\n",
    "        chunklen = int(Depth_array/numchunk)\n",
    "        plt.imshow((bawps_new[(i*chunklen):((i+1)*chunklen), : ,2]), cmap=\"Greys_r\")\n",
    "        \n",
    "\n",
    "        "
   ]
  },
  {
   "cell_type": "code",
   "execution_count": 20,
   "metadata": {},
   "outputs": [
    {
     "name": "stderr",
     "output_type": "stream",
     "text": [
      "/Users/chance/anaconda3/lib/python3.6/site-packages/matplotlib/axes/_base.py:3443: UserWarning: Attempting to set identical bottom==top results\n",
      "in singular transformations; automatically expanding.\n",
      "bottom=-0.5, top=-0.5\n",
      "  'bottom=%s, top=%s') % (bottom, top))\n"
     ]
    },
    {
     "data": {
      "image/png": "[encoded data removed]",
      "text/plain": [
       "<Figure size 432x288 with 1 Axes>"
      ]
     },
     "metadata": {},
     "output_type": "display_data"
    },
    {
     "data": {
      "image/png": "[encoded data removed]",
      "text/plain": [
       "<Figure size 432x288 with 1 Axes>"
      ]
     },
     "metadata": {},
     "output_type": "display_data"
    },
    {
     "data": {
      "image/png": "[encoded data removed]",
      "text/plain": [
       "<Figure size 432x288 with 1 Axes>"
      ]
     },
     "metadata": {},
     "output_type": "display_data"
    },
    {
     "data": {
      "image/png": "[encoded data removed]",
      "text/plain": [
       "<Figure size 432x288 with 1 Axes>"
      ]
     },
     "metadata": {},
     "output_type": "display_data"
    },
    {
     "data": {
      "image/png": "[encoded data removed]",
      "text/plain": [
       "<Figure size 432x288 with 1 Axes>"
      ]
     },
     "metadata": {},
     "output_type": "display_data"
    },
    {
     "data": {
      "image/png": "[encoded data removed]",
      "text/plain": [
       "<Figure size 432x288 with 1 Axes>"
      ]
     },
     "metadata": {},
     "output_type": "display_data"
    },
    {
     "data": {
      "image/png": "[encoded data removed]",
      "text/plain": [
       "<Figure size 432x288 with 1 Axes>"
      ]
     },
     "metadata": {},
     "output_type": "display_data"
    },
    {
     "data": {
      "image/png": "[encoded data removed]",
      "text/plain": [
       "<Figure size 432x288 with 1 Axes>"
      ]
     },
     "metadata": {},
     "output_type": "display_data"
    },
    {
     "data": {
      "image/png": "[encoded data removed]",
      "text/plain": [
       "<Figure size 432x288 with 1 Axes>"
      ]
     },
     "metadata": {},
     "output_type": "display_data"
    },
    {
     "data": {
      "image/png": "[encoded data removed]",
      "text/plain": [
       "<Figure size 432x288 with 1 Axes>"
      ]
     },
     "metadata": {},
     "output_type": "display_data"
    }
   ],
   "source": [
    "logchunks(lases, 'Latitude')"
   ]
  },
  {
   "cell_type": "code",
   "execution_count": null,
   "metadata": {},
   "outputs": [],
   "source": []
  }
 ],
 "metadata": {
  "kernelspec": {
   "display_name": "Python 3",
   "language": "python",
   "name": "python3"
  },
  "language_info": {
   "codemirror_mode": {
    "name": "ipython",
    "version": 3
   },
   "file_extension": ".py",
   "mimetype": "text/x-python",
   "name": "python",
   "nbconvert_exporter": "python",
   "pygments_lexer": "ipython3",
   "version": "3.6.5"
  }
 },
 "nbformat": 4,
 "nbformat_minor": 2
}
